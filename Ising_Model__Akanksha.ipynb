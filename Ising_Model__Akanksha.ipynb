{
  "cells": [
    {
      "cell_type": "code",
      "execution_count": null,
      "metadata": {
        "id": "UDg7CdHvE6ox"
      },
      "outputs": [],
      "source": [
        "import numpy as np\n",
        "from tqdm import tqdm\n",
        "import matplotlib.pyplot as plt\n",
        "%matplotlib inline"
      ]
    },
    {
      "cell_type": "code",
      "execution_count": null,
      "metadata": {
        "id": "gnkniHyEE6oz"
      },
      "outputs": [],
      "source": [
        "L = 12\n",
        "N = L**2 ## No. of spins\n",
        "J = 1.0 # Coupling constant"
      ]
    },
    {
      "cell_type": "code",
      "execution_count": null,
      "metadata": {
        "id": "TApF_clOE6o0"
      },
      "outputs": [],
      "source": [
        "def create_picture(positions,colors):\n",
        "    plt.cla()\n",
        "    \n",
        "    plt.axis([0, L, 0, L])\n",
        "    plt.setp(plt.gca())\n",
        "    for pos, col in zip(positions,colors):\n",
        "        square = plt.Rectangle((pos[0], pos[1]), 0.8, 0.8, fc = col)\n",
        "        plt.gca().add_patch(square)\n",
        "        \n",
        "def color(i):\n",
        "    if i == 1: return 'r'\n",
        "    else: return 'b'"
      ]
    },
    {
      "cell_type": "code",
      "execution_count": null,
      "metadata": {
        "id": "g1qObKOmE6o0"
      },
      "outputs": [],
      "source": [
        "## Identifies the nearest neighbors of spin numbered i.\n",
        "## Note that edges are identified, so that there are no boundaries.\n",
        "\n",
        "def right(i):\n",
        "    if (i+1)%L == 0: return i+1-L \n",
        "    else: return i+1\n",
        "\n",
        "def left(i):\n",
        "    if i%L == 0: return i-1+L\n",
        "    else: return i-1\n",
        "\n",
        "def up(i):\n",
        "    return (i+L)%N\n",
        "\n",
        "def down(i):\n",
        "    return (i-L+N)%N"
      ]
    },
    {
      "cell_type": "code",
      "execution_count": null,
      "metadata": {
        "id": "WW0D67u_E6o1"
      },
      "outputs": [],
      "source": [
        "## List of neighbors of each spin.\n",
        "neighbors = [[right(i),left(i),up(i),down(i)] for i in range(N)]\n",
        "## coordinates of each spin. Just for visualization.\n",
        "coordinates = [[i%L,i//L] for i in range(N)]\n",
        "orientations = [-1,1]     #either up spin or down spin\n",
        "ini_spins = []\n",
        "spins= []\n",
        "colors = []\n",
        "susceptibility=[]"
      ]
    },
    {
      "cell_type": "code",
      "execution_count": null,
      "metadata": {
        "id": "JLEkmxxAE6o1",
        "colab": {
          "base_uri": "https://localhost:8080/"
        },
        "outputId": "b882dbfc-e2a9-4e75-c991-7335688be25e"
      },
      "outputs": [
        {
          "output_type": "stream",
          "name": "stdout",
          "text": [
            "[1, 1, 1, -1, 1, -1, -1, -1, 1, 1, -1, -1, -1, -1, -1, 1, 1, 1, 1, -1, 1, -1, 1, 1, 1, 1, -1, 1, -1, -1, 1, -1, 1, -1, -1, 1, -1, -1, 1, -1, -1, -1, 1, 1, 1, 1, 1, -1, 1, 1, -1, -1, -1, -1, 1, -1, -1, 1, 1, 1, -1, -1, -1, 1, 1, 1, -1, -1, -1, 1, -1, 1, 1, -1, -1, 1, 1, -1, 1, -1, 1, -1, 1, 1, 1, -1, -1, -1, -1, 1, 1, -1, -1, -1, 1, -1, -1, 1, 1, 1, -1, -1, 1, -1, 1, 1, 1, 1, 1, -1, 1, 1, 1, 1, -1, -1, -1, 1, 1, 1, 1, 1, -1, 1, -1, -1, -1, -1, -1, -1, 1, -1, -1, 1, 1, -1, -1, 1, 1, 1, 1, -1, -1, -1]\n"
          ]
        }
      ],
      "source": [
        "##### initial spin assignment ##################\n",
        "\n",
        "ini_spins=[]\n",
        "for i in range(N):\n",
        "    spin = np.random.choice(orientations)\n",
        "    ini_spins.append(spin)\n",
        "\n",
        "print(ini_spins)\n",
        "\n"
      ]
    },
    {
      "cell_type": "code",
      "source": [
        "p=0\n",
        "n=0\n",
        "for i in range(len(ini_spins)):\n",
        "  if ini_spins[i]== 1:\n",
        "    p+=1\n",
        "  if ini_spins[i]== -1:\n",
        "    n+=1\n",
        "print(p)\n",
        "print(n)"
      ],
      "metadata": {
        "colab": {
          "base_uri": "https://localhost:8080/"
        },
        "id": "VeC8DGXK4LjC",
        "outputId": "2d9f0e26-d793-491d-c24d-34686ae26729"
      },
      "execution_count": null,
      "outputs": [
        {
          "output_type": "stream",
          "name": "stdout",
          "text": [
            "73\n",
            "71\n"
          ]
        }
      ]
    },
    {
      "cell_type": "code",
      "execution_count": null,
      "metadata": {
        "colab": {
          "base_uri": "https://localhost:8080/"
        },
        "id": "z2epNrbK7b7C",
        "outputId": "999b3112-67bf-4300-92b0-c93f947d87c8"
      },
      "outputs": [
        {
          "output_type": "stream",
          "name": "stderr",
          "text": [
            "100%|██████████| 1440000/1440000 [00:37<00:00, 38051.20it/s]\n",
            "100%|██████████| 1440000/1440000 [00:36<00:00, 39800.63it/s]\n",
            "100%|██████████| 1440000/1440000 [00:36<00:00, 39603.49it/s]\n",
            "100%|██████████| 1440000/1440000 [00:37<00:00, 38688.25it/s]\n",
            "100%|██████████| 1440000/1440000 [00:35<00:00, 41020.22it/s]\n",
            "100%|██████████| 1440000/1440000 [00:35<00:00, 40475.30it/s]\n",
            "100%|██████████| 1440000/1440000 [00:36<00:00, 39705.71it/s]\n",
            "100%|██████████| 1440000/1440000 [00:36<00:00, 39569.27it/s]\n",
            "100%|██████████| 1440000/1440000 [00:36<00:00, 39516.56it/s]\n",
            "100%|██████████| 1440000/1440000 [00:36<00:00, 39399.03it/s]\n",
            "100%|██████████| 1440000/1440000 [00:36<00:00, 39516.91it/s]\n",
            "100%|██████████| 1440000/1440000 [00:38<00:00, 37097.46it/s]\n",
            "100%|██████████| 1440000/1440000 [00:36<00:00, 39046.68it/s]\n",
            "100%|██████████| 1440000/1440000 [00:36<00:00, 39993.54it/s]\n",
            "100%|██████████| 1440000/1440000 [00:35<00:00, 40258.83it/s]\n"
          ]
        }
      ],
      "source": [
        "nsteps = 10000*N\n",
        "#T =  3.0  # Temperature, in units of J/k_B.\n",
        "#beta = 1/T\n",
        "T_list = [1.0 + 0.2 * i for i in range(15)]\n",
        "mean_mag_list=[]\n",
        "len_T_list= len(T_list)\n",
        "\n",
        "spins=[]\n",
        "for j in range(len(ini_spins)):\n",
        "  spins.append(ini_spins[j])\n",
        "#new_mean_mag_list=[]\n",
        "#new_list=[]\n",
        "\n",
        "for t in T_list:\n",
        "  beta= 1/t\n",
        "  mag_list=[]\n",
        "  magnetisation=0\n",
        "\n",
        "    #print(ini_spins)\n",
        "  #mean_mag_list=[]\n",
        "  #spins=ini_spins     \n",
        "  for step in tqdm(range(nsteps)):    \n",
        "    #magnetisation= (sum(spins))/N\n",
        "    #mag_list.append(magnetisation)\n",
        "    k = np.random.randint(0, N - 1) ### Choose a random spin and try to flip it.\n",
        "    delta_E = 2.0 * spins[k] * sum(spins[j] for j in neighbors[k]) # Change in energy due to the spin flip.\n",
        "    if np.random.uniform(0.0, 1.0) <  np.exp(-beta * delta_E): # Metropolis accepatance probability.\n",
        "      spins[k] *= -1\n",
        "    if t== T_list[0]:\n",
        "      if step>= (0.5*nsteps):\n",
        "        magnetisation= abs((sum(spins))/N)\n",
        "        mag_list.append(magnetisation)\n",
        "    else:\n",
        "      magnetisation= abs((sum(spins))/N)\n",
        "      mag_list.append(magnetisation)\n",
        "     \n",
        "  mean_mag= np.mean(mag_list)\n",
        "  mean_mag_list.append(mean_mag)\n",
        "  squared_mean_mag= sum(i**2 for i in mag_list)/ len(mag_list)\n",
        "  susceptibility.append((squared_mean_mag - mean_mag**2)/t)"
      ]
    },
    {
      "cell_type": "code",
      "source": [
        "for i in range(N):\n",
        "    colors.append(color(spins[i]))\n",
        "\n",
        "create_picture(coordinates,colors)"
      ],
      "metadata": {
        "colab": {
          "base_uri": "https://localhost:8080/",
          "height": 1000
        },
        "id": "c_ctfRlYEb10",
        "outputId": "8925489b-8034-4e95-dedf-509227f52aa9"
      },
      "execution_count": null,
      "outputs": [
        {
          "output_type": "stream",
          "name": "stdout",
          "text": [
            "  adjustable: {'box', 'datalim'}\n",
            "  agg_filter: a filter function, which takes a (m, n, 3) float array and a dpi value, and returns a (m, n, 3) array and two offsets from the bottom left corner of the image\n",
            "  alpha: scalar or None\n",
            "  anchor: (float, float) or {'C', 'SW', 'S', 'SE', 'E', 'NE', ...}\n",
            "  animated: bool\n",
            "  aspect: {'auto', 'equal'} or float\n",
            "  autoscale_on: bool\n",
            "  autoscalex_on: unknown\n",
            "  autoscaley_on: unknown\n",
            "  axes_locator: Callable[[Axes, Renderer], Bbox]\n",
            "  axisbelow: bool or 'line'\n",
            "  box_aspect: float or None\n",
            "  clip_box: `.Bbox`\n",
            "  clip_on: bool\n",
            "  clip_path: Patch or (Path, Transform) or None\n",
            "  facecolor or fc: color\n",
            "  figure: `.Figure`\n",
            "  frame_on: bool\n",
            "  gid: str\n",
            "  in_layout: bool\n",
            "  label: object\n",
            "  mouseover: bool\n",
            "  navigate: bool\n",
            "  navigate_mode: unknown\n",
            "  path_effects: `.AbstractPathEffect`\n",
            "  picker: None or bool or float or callable\n",
            "  position: [left, bottom, width, height] or `~matplotlib.transforms.Bbox`\n",
            "  prop_cycle: unknown\n",
            "  rasterization_zorder: float or None\n",
            "  rasterized: bool\n",
            "  sketch_params: (scale: float, length: float, randomness: float)\n",
            "  snap: bool or None\n",
            "  subplotspec: unknown\n",
            "  title: str\n",
            "  transform: `.Transform`\n",
            "  url: str\n",
            "  visible: bool\n",
            "  xbound: unknown\n",
            "  xlabel: str\n",
            "  xlim: (bottom: float, top: float)\n",
            "  xmargin: float greater than -0.5\n",
            "  xscale: unknown\n",
            "  xticklabels: unknown\n",
            "  xticks: unknown\n",
            "  ybound: unknown\n",
            "  ylabel: str\n",
            "  ylim: (bottom: float, top: float)\n",
            "  ymargin: float greater than -0.5\n",
            "  yscale: unknown\n",
            "  yticklabels: unknown\n",
            "  yticks: unknown\n",
            "  zorder: float\n"
          ]
        },
        {
          "output_type": "display_data",
          "data": {
            "text/plain": [
              "<Figure size 640x480 with 1 Axes>"
            ],
            "image/png": "[encoded data removed]"
          },
          "metadata": {}
        }
      ]
    },
    {
      "cell_type": "code",
      "execution_count": null,
      "metadata": {
        "colab": {
          "base_uri": "https://localhost:8080/"
        },
        "id": "7qIpl9mcBzny",
        "outputId": "c4afcd04-561c-47f0-c177-830a3db4254c"
      },
      "outputs": [
        {
          "output_type": "stream",
          "name": "stdout",
          "text": [
            "[1.0, 1.2, 1.4, 1.6, 1.8, 2.0, 2.2, 2.4000000000000004, 2.6, 2.8, 3.0, 3.2, 3.4000000000000004, 3.6, 3.8000000000000003]\n",
            "[0.984315625, 0.9804857445987655, 0.9722119888117284, 0.9570118441358016, 0.9250991415895052, 0.8872362172067902, 0.8224446662808641, 0.6044201003086419, 0.3975193479938273, 0.2807796682098766, 0.22309537037037044, 0.18951467978395062, 0.17161939621913572, 0.1593660108024692, 0.1495071084104939]\n"
          ]
        }
      ],
      "source": [
        "print(T_list)\n",
        "print(mean_mag_list)"
      ]
    },
    {
      "cell_type": "code",
      "execution_count": null,
      "metadata": {
        "colab": {
          "base_uri": "https://localhost:8080/",
          "height": 448
        },
        "id": "q90wyhH3E2Ru",
        "outputId": "1005495f-cc86-49bb-c0c9-e92e62d9277c"
      },
      "outputs": [
        {
          "output_type": "execute_result",
          "data": {
            "text/plain": [
              "<matplotlib.collections.PathCollection at 0x7f9e5adf7c40>"
            ]
          },
          "metadata": {},
          "execution_count": 11
        },
        {
          "output_type": "display_data",
          "data": {
            "text/plain": [
              "<Figure size 640x480 with 1 Axes>"
            ],
            "image/png": "[encoded data removed]"
          },
          "metadata": {}
        }
      ],
      "source": [
        "plt.scatter(T_list,mean_mag_list)\n",
        "#plt.plot(T_list, mean_mag_list)"
      ]
    },
    {
      "cell_type": "code",
      "source": [
        "plt.plot(T_list, susceptibility)\n",
        "plt.xlabel(\"Temperature\")\n",
        "plt.ylabel(\"Susceptibility\")"
      ],
      "metadata": {
        "colab": {
          "base_uri": "https://localhost:8080/",
          "height": 467
        },
        "id": "F3AWOalyHqzn",
        "outputId": "a53df110-f327-4c4d-fb53-b7caa836073b"
      },
      "execution_count": null,
      "outputs": [
        {
          "output_type": "execute_result",
          "data": {
            "text/plain": [
              "Text(0, 0.5, 'Susceptibility')"
            ]
          },
          "metadata": {},
          "execution_count": 12
        },
        {
          "output_type": "display_data",
          "data": {
            "text/plain": [
              "<Figure size 640x480 with 1 Axes>"
            ],
            "image/png": "[encoded data removed]"
          },
          "metadata": {}
        }
      ]
    }
  ],
  "metadata": {
    "colab": {
      "provenance": []
    },
    "kernelspec": {
      "display_name": "Python 3",
      "name": "python3"
    }
  },
  "nbformat": 4,
  "nbformat_minor": 0
}