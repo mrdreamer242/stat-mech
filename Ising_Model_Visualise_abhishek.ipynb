{
 "cells": [
  {
   "cell_type": "code",
   "execution_count": 51,
   "metadata": {
    "id": "UDg7CdHvE6ox"
   },
   "outputs": [],
   "source": [
    "import numpy as np\n",
    "from tqdm import tqdm\n",
    "import matplotlib.pyplot as plt\n",
    "%matplotlib inline"
   ]
  },
  {
   "cell_type": "code",
   "execution_count": 52,
   "metadata": {
    "id": "gnkniHyEE6oz"
   },
   "outputs": [],
   "source": [
    "L = 30\n",
    "N = L**2 ## No. of spins\n",
    "J = 1.0 # Coupling constant"
   ]
  },
  {
   "cell_type": "code",
   "execution_count": 53,
   "metadata": {
    "id": "TApF_clOE6o0"
   },
   "outputs": [],
   "source": [
    "def create_picture(positions,colors):\n",
    "    plt.cla()\n",
    "    plt.axis([0, L, 0, L])\n",
    "    plt.setp(plt.gca())\n",
    "    for pos, col in zip(positions,colors):\n",
    "        square = plt.Rectangle((pos[0], pos[1]), 0.8, 0.8, fc = col)\n",
    "        plt.gca().add_patch(square)\n",
    "        \n",
    "def color(i):\n",
    "    if i == 1: return 'r'\n",
    "    else: return 'b'"
   ]
  },
  {
   "cell_type": "code",
   "execution_count": 54,
   "metadata": {
    "id": "g1qObKOmE6o0"
   },
   "outputs": [],
   "source": [
    "## Identifies the nearest neighbors of spin numbered i.\n",
    "## Note that edges are identified, so that there are no boundaries.\n",
    "\n",
    "def right(i):\n",
    "    if (i+1)%L == 0: return i+1-L \n",
    "    else: return i+1\n",
    "\n",
    "def left(i):\n",
    "    if i%L == 0: return i-1+L\n",
    "    else: return i-1\n",
    "\n",
    "def up(i):\n",
    "    return (i+L)%N\n",
    "\n",
    "def down(i):\n",
    "    return (i-L+N)%N"
   ]
  },
  {
   "cell_type": "code",
   "execution_count": 55,
   "metadata": {
    "id": "WW0D67u_E6o1"
   },
   "outputs": [],
   "source": [
    "## List of neighbors of each spin.\n",
    "neighbors = [[right(i),left(i),up(i),down(i)] for i in range(N)]\n",
    "## coordinates of each spin. Just for visualization.\n",
    "coordinates = [[i%L,i//L] for i in range(N)]\n",
    "orientations = [1,-1]  ## either up or down spin\n",
    "spins = []\n",
    "colors = []"
   ]
  },
  {
   "cell_type": "code",
   "execution_count": 56,
   "metadata": {
    "id": "JLEkmxxAE6o1"
   },
   "outputs": [],
   "source": [
    "##### initial spin assignment ##################\n",
    "\n",
    "for i in range(N):\n",
    "    spin = np.random.choice(orientations)\n",
    "    spins.append(spin)\n",
    " "
   ]
  },
  {
   "cell_type": "code",
   "execution_count": 57,
   "metadata": {},
   "outputs": [
    {
     "name": "stdout",
     "output_type": "stream",
     "text": [
      "  adjustable: {'box', 'datalim'}\n",
      "  agg_filter: a filter function, which takes a (m, n, 3) float array and a dpi value, and returns a (m, n, 3) array and two offsets from the bottom left corner of the image\n",
      "  alpha: scalar or None\n",
      "  anchor: (float, float) or {'C', 'SW', 'S', 'SE', 'E', 'NE', ...}\n",
      "  animated: bool\n",
      "  aspect: {'auto', 'equal'} or float\n",
      "  autoscale_on: bool\n",
      "  autoscalex_on: unknown\n",
      "  autoscaley_on: unknown\n",
      "  axes_locator: Callable[[Axes, Renderer], Bbox]\n",
      "  axisbelow: bool or 'line'\n",
      "  box_aspect: float or None\n",
      "  clip_box: `.Bbox`\n",
      "  clip_on: bool\n",
      "  clip_path: Patch or (Path, Transform) or None\n",
      "  facecolor or fc: color\n",
      "  figure: `.Figure`\n",
      "  frame_on: bool\n",
      "  gid: str\n",
      "  in_layout: bool\n",
      "  label: object\n",
      "  mouseover: bool\n",
      "  navigate: bool\n",
      "  navigate_mode: unknown\n",
      "  path_effects: `.AbstractPathEffect`\n",
      "  picker: None or bool or float or callable\n",
      "  position: [left, bottom, width, height] or `~matplotlib.transforms.Bbox`\n",
      "  prop_cycle: unknown\n",
      "  rasterization_zorder: float or None\n",
      "  rasterized: bool\n",
      "  sketch_params: (scale: float, length: float, randomness: float)\n",
      "  snap: bool or None\n",
      "  subplotspec: unknown\n",
      "  title: str\n",
      "  transform: `.Transform`\n",
      "  url: str\n",
      "  visible: bool\n",
      "  xbound: unknown\n",
      "  xlabel: str\n",
      "  xlim: (bottom: float, top: float)\n",
      "  xmargin: float greater than -0.5\n",
      "  xscale: unknown\n",
      "  xticklabels: unknown\n",
      "  xticks: unknown\n",
      "  ybound: unknown\n",
      "  ylabel: str\n",
      "  ylim: (bottom: float, top: float)\n",
      "  ymargin: float greater than -0.5\n",
      "  yscale: unknown\n",
      "  yticklabels: unknown\n",
      "  yticks: unknown\n",
      "  zorder: float\n"
     ]
    },
    {
     "data": {
      "image/png": "[encoded data removed]",
      "text/plain": [
       "<Figure size 640x480 with 1 Axes>"
      ]
     },
     "metadata": {},
     "output_type": "display_data"
    }
   ],
   "source": [
    "spins_old = []\n",
    "for i in range(len(spins)):\n",
    "    spins_old.append(spins[i])\n",
    "\n",
    "for i in range(N):\n",
    "    colors.append(color(spins_old[i]))\n",
    "\n",
    "    \n",
    "create_picture(coordinates,colors)"
   ]
  },
  {
   "cell_type": "code",
   "execution_count": 58,
   "metadata": {
    "colab": {
     "base_uri": "https://localhost:8080/"
    },
    "executionInfo": {
     "elapsed": 150301,
     "status": "ok",
     "timestamp": 1678880701449,
     "user": {
      "displayName": "Abhinav Gupta",
      "userId": "16056252826196756543"
     },
     "user_tz": -330
    },
    "id": "r-4avPx2E6o2",
    "outputId": "6eabc4ad-9253-42ec-b095-02d76f51b3e5"
   },
   "outputs": [
    {
     "name": "stderr",
     "output_type": "stream",
     "text": [
      "100%|██████████████████████████████████████████████████████████████████████| 9000000/9000000 [20:06<00:00, 7462.65it/s]\n"
     ]
    }
   ],
   "source": [
    "nsteps = 10000*N\n",
    "T = 3.0 # Temperature, in units of J/k_B.\n",
    "beta = 1/T\n",
    "for step in tqdm(range(nsteps)):\n",
    "    k = np.random.randint(0, N - 1) ### Choose a random spin and try to flip it.\n",
    "    delta_E = 2.0 * spins[k] * sum(spins[j] for j in neighbors[k]) # Change in energy due to the spin flip.\n",
    "    if np.random.uniform(0.0, 1.0) < np.exp(-beta * delta_E): # Metropolis accepatance probability.\n",
    "        spins[k] *= -1"
   ]
  },
  {
   "cell_type": "code",
   "execution_count": 59,
   "metadata": {
    "colab": {
     "base_uri": "https://localhost:8080/",
     "height": 1000
    },
    "executionInfo": {
     "elapsed": 2579,
     "status": "ok",
     "timestamp": 1678880710233,
     "user": {
      "displayName": "Abhinav Gupta",
      "userId": "16056252826196756543"
     },
     "user_tz": -330
    },
    "id": "zcRrhjTIE6o3",
    "outputId": "6277f31b-8298-437a-8cc6-0f8d3739f866"
   },
   "outputs": [
    {
     "name": "stdout",
     "output_type": "stream",
     "text": [
      "  adjustable: {'box', 'datalim'}\n",
      "  agg_filter: a filter function, which takes a (m, n, 3) float array and a dpi value, and returns a (m, n, 3) array and two offsets from the bottom left corner of the image\n",
      "  alpha: scalar or None\n",
      "  anchor: (float, float) or {'C', 'SW', 'S', 'SE', 'E', 'NE', ...}\n",
      "  animated: bool\n",
      "  aspect: {'auto', 'equal'} or float\n",
      "  autoscale_on: bool\n",
      "  autoscalex_on: unknown\n",
      "  autoscaley_on: unknown\n",
      "  axes_locator: Callable[[Axes, Renderer], Bbox]\n",
      "  axisbelow: bool or 'line'\n",
      "  box_aspect: float or None\n",
      "  clip_box: `.Bbox`\n",
      "  clip_on: bool\n",
      "  clip_path: Patch or (Path, Transform) or None\n",
      "  facecolor or fc: color\n",
      "  figure: `.Figure`\n",
      "  frame_on: bool\n",
      "  gid: str\n",
      "  in_layout: bool\n",
      "  label: object\n",
      "  mouseover: bool\n",
      "  navigate: bool\n",
      "  navigate_mode: unknown\n",
      "  path_effects: `.AbstractPathEffect`\n",
      "  picker: None or bool or float or callable\n",
      "  position: [left, bottom, width, height] or `~matplotlib.transforms.Bbox`\n",
      "  prop_cycle: unknown\n",
      "  rasterization_zorder: float or None\n",
      "  rasterized: bool\n",
      "  sketch_params: (scale: float, length: float, randomness: float)\n",
      "  snap: bool or None\n",
      "  subplotspec: unknown\n",
      "  title: str\n",
      "  transform: `.Transform`\n",
      "  url: str\n",
      "  visible: bool\n",
      "  xbound: unknown\n",
      "  xlabel: str\n",
      "  xlim: (bottom: float, top: float)\n",
      "  xmargin: float greater than -0.5\n",
      "  xscale: unknown\n",
      "  xticklabels: unknown\n",
      "  xticks: unknown\n",
      "  ybound: unknown\n",
      "  ylabel: str\n",
      "  ylim: (bottom: float, top: float)\n",
      "  ymargin: float greater than -0.5\n",
      "  yscale: unknown\n",
      "  yticklabels: unknown\n",
      "  yticks: unknown\n",
      "  zorder: float\n"
     ]
    },
    {
     "data": {
      "image/png": "[encoded data removed]",
      "text/plain": [
       "<Figure size 640x480 with 1 Axes>"
      ]
     },
     "metadata": {},
     "output_type": "display_data"
    }
   ],
   "source": [
    "spins_new = []\n",
    "colors_new = []\n",
    "for i in range(len(spins)):\n",
    "    spins_new.append(spins)\n",
    "    \n",
    "for i in range(N):\n",
    "    colors_new.append(color(spins_new[i]))\n",
    "    \n",
    "create_picture(coordinates,colors_new)\n"
   ]
  },
  {
   "cell_type": "code",
   "execution_count": null,
   "metadata": {
    "id": "GOluZY_sE6o4"
   },
   "outputs": [],
   "source": []
  }
 ],
 "metadata": {
  "colab": {
   "provenance": []
  },
  "kernelspec": {
   "display_name": "Python 3 (ipykernel)",
   "language": "python",
   "name": "python3"
  },
  "language_info": {
   "codemirror_mode": {
    "name": "ipython",
    "version": 3
   },
   "file_extension": ".py",
   "mimetype": "text/x-python",
   "name": "python",
   "nbconvert_exporter": "python",
   "pygments_lexer": "ipython3",
   "version": "3.10.10"
  }
 },
 "nbformat": 4,
 "nbformat_minor": 1
}
